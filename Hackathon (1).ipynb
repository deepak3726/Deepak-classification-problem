{
 "cells": [
  {
   "cell_type": "code",
   "execution_count": 1,
   "id": "86f9581c",
   "metadata": {},
   "outputs": [],
   "source": [
    "import pandas as pd\n",
    "import numpy as np\n",
    "import matplotlib.pyplot as plt\n",
    "import seaborn as sns\n",
    "%matplotlib inline"
   ]
  },
  {
   "cell_type": "code",
   "execution_count": 2,
   "id": "9b0fdf1b",
   "metadata": {},
   "outputs": [],
   "source": [
    "train_df = pd.read_csv('training_set_features.csv', index_col = 'respondent_id')"
   ]
  },
  {
   "cell_type": "code",
   "execution_count": 3,
   "id": "14633449",
   "metadata": {},
   "outputs": [],
   "source": [
    "train_labels_df = pd.read_csv('training_set_labels.csv', index_col = 'respondent_id')"
   ]
  },
  {
   "cell_type": "code",
   "execution_count": 4,
   "id": "6959d122",
   "metadata": {},
   "outputs": [],
   "source": [
    "test_df = pd.read_csv('test_set_features.csv', index_col = 'respondent_id')"
   ]
  },
  {
   "cell_type": "code",
   "execution_count": 5,
   "id": "97817c4b",
   "metadata": {},
   "outputs": [
    {
     "name": "stdout",
     "output_type": "stream",
     "text": [
      "(26707, 37)\n"
     ]
    },
    {
     "data": {
      "text/html": [
       "<div>\n",
       "<style scoped>\n",
       "    .dataframe tbody tr th:only-of-type {\n",
       "        vertical-align: middle;\n",
       "    }\n",
       "\n",
       "    .dataframe tbody tr th {\n",
       "        vertical-align: top;\n",
       "    }\n",
       "\n",
       "    .dataframe thead th {\n",
       "        text-align: right;\n",
       "    }\n",
       "</style>\n",
       "<table border=\"1\" class=\"dataframe\">\n",
       "  <thead>\n",
       "    <tr style=\"text-align: right;\">\n",
       "      <th></th>\n",
       "      <th>xyz_concern</th>\n",
       "      <th>xyz_knowledge</th>\n",
       "      <th>behavioral_antiviral_meds</th>\n",
       "      <th>behavioral_avoidance</th>\n",
       "      <th>behavioral_face_mask</th>\n",
       "      <th>behavioral_wash_hands</th>\n",
       "      <th>behavioral_large_gatherings</th>\n",
       "      <th>behavioral_outside_home</th>\n",
       "      <th>behavioral_touch_face</th>\n",
       "      <th>doctor_recc_xyz</th>\n",
       "      <th>...</th>\n",
       "      <th>rent_or_own</th>\n",
       "      <th>employment_status</th>\n",
       "      <th>hhs_geo_region</th>\n",
       "      <th>census_msa</th>\n",
       "      <th>household_adults</th>\n",
       "      <th>household_children</th>\n",
       "      <th>employment_industry</th>\n",
       "      <th>employment_occupation</th>\n",
       "      <th>xyz_vaccine</th>\n",
       "      <th>seasonal_vaccine</th>\n",
       "    </tr>\n",
       "    <tr>\n",
       "      <th>respondent_id</th>\n",
       "      <th></th>\n",
       "      <th></th>\n",
       "      <th></th>\n",
       "      <th></th>\n",
       "      <th></th>\n",
       "      <th></th>\n",
       "      <th></th>\n",
       "      <th></th>\n",
       "      <th></th>\n",
       "      <th></th>\n",
       "      <th></th>\n",
       "      <th></th>\n",
       "      <th></th>\n",
       "      <th></th>\n",
       "      <th></th>\n",
       "      <th></th>\n",
       "      <th></th>\n",
       "      <th></th>\n",
       "      <th></th>\n",
       "      <th></th>\n",
       "      <th></th>\n",
       "    </tr>\n",
       "  </thead>\n",
       "  <tbody>\n",
       "    <tr>\n",
       "      <th>0</th>\n",
       "      <td>1.0</td>\n",
       "      <td>0.0</td>\n",
       "      <td>0.0</td>\n",
       "      <td>0.0</td>\n",
       "      <td>0.0</td>\n",
       "      <td>0.0</td>\n",
       "      <td>0.0</td>\n",
       "      <td>1.0</td>\n",
       "      <td>1.0</td>\n",
       "      <td>0.0</td>\n",
       "      <td>...</td>\n",
       "      <td>Own</td>\n",
       "      <td>Not in Labor Force</td>\n",
       "      <td>oxchjgsf</td>\n",
       "      <td>Non-MSA</td>\n",
       "      <td>0.0</td>\n",
       "      <td>0.0</td>\n",
       "      <td>NaN</td>\n",
       "      <td>NaN</td>\n",
       "      <td>0</td>\n",
       "      <td>0</td>\n",
       "    </tr>\n",
       "    <tr>\n",
       "      <th>1</th>\n",
       "      <td>3.0</td>\n",
       "      <td>2.0</td>\n",
       "      <td>0.0</td>\n",
       "      <td>1.0</td>\n",
       "      <td>0.0</td>\n",
       "      <td>1.0</td>\n",
       "      <td>0.0</td>\n",
       "      <td>1.0</td>\n",
       "      <td>1.0</td>\n",
       "      <td>0.0</td>\n",
       "      <td>...</td>\n",
       "      <td>Rent</td>\n",
       "      <td>Employed</td>\n",
       "      <td>bhuqouqj</td>\n",
       "      <td>MSA, Not Principle  City</td>\n",
       "      <td>0.0</td>\n",
       "      <td>0.0</td>\n",
       "      <td>pxcmvdjn</td>\n",
       "      <td>xgwztkwe</td>\n",
       "      <td>0</td>\n",
       "      <td>1</td>\n",
       "    </tr>\n",
       "    <tr>\n",
       "      <th>2</th>\n",
       "      <td>1.0</td>\n",
       "      <td>1.0</td>\n",
       "      <td>0.0</td>\n",
       "      <td>1.0</td>\n",
       "      <td>0.0</td>\n",
       "      <td>0.0</td>\n",
       "      <td>0.0</td>\n",
       "      <td>0.0</td>\n",
       "      <td>0.0</td>\n",
       "      <td>NaN</td>\n",
       "      <td>...</td>\n",
       "      <td>Own</td>\n",
       "      <td>Employed</td>\n",
       "      <td>qufhixun</td>\n",
       "      <td>MSA, Not Principle  City</td>\n",
       "      <td>2.0</td>\n",
       "      <td>0.0</td>\n",
       "      <td>rucpziij</td>\n",
       "      <td>xtkaffoo</td>\n",
       "      <td>0</td>\n",
       "      <td>0</td>\n",
       "    </tr>\n",
       "    <tr>\n",
       "      <th>3</th>\n",
       "      <td>1.0</td>\n",
       "      <td>1.0</td>\n",
       "      <td>0.0</td>\n",
       "      <td>1.0</td>\n",
       "      <td>0.0</td>\n",
       "      <td>1.0</td>\n",
       "      <td>1.0</td>\n",
       "      <td>0.0</td>\n",
       "      <td>0.0</td>\n",
       "      <td>0.0</td>\n",
       "      <td>...</td>\n",
       "      <td>Rent</td>\n",
       "      <td>Not in Labor Force</td>\n",
       "      <td>lrircsnp</td>\n",
       "      <td>MSA, Principle City</td>\n",
       "      <td>0.0</td>\n",
       "      <td>0.0</td>\n",
       "      <td>NaN</td>\n",
       "      <td>NaN</td>\n",
       "      <td>0</td>\n",
       "      <td>1</td>\n",
       "    </tr>\n",
       "    <tr>\n",
       "      <th>4</th>\n",
       "      <td>2.0</td>\n",
       "      <td>1.0</td>\n",
       "      <td>0.0</td>\n",
       "      <td>1.0</td>\n",
       "      <td>0.0</td>\n",
       "      <td>1.0</td>\n",
       "      <td>1.0</td>\n",
       "      <td>0.0</td>\n",
       "      <td>1.0</td>\n",
       "      <td>0.0</td>\n",
       "      <td>...</td>\n",
       "      <td>Own</td>\n",
       "      <td>Employed</td>\n",
       "      <td>qufhixun</td>\n",
       "      <td>MSA, Not Principle  City</td>\n",
       "      <td>1.0</td>\n",
       "      <td>0.0</td>\n",
       "      <td>wxleyezf</td>\n",
       "      <td>emcorrxb</td>\n",
       "      <td>0</td>\n",
       "      <td>0</td>\n",
       "    </tr>\n",
       "  </tbody>\n",
       "</table>\n",
       "<p>5 rows × 37 columns</p>\n",
       "</div>"
      ],
      "text/plain": [
       "               xyz_concern  xyz_knowledge  behavioral_antiviral_meds  \\\n",
       "respondent_id                                                          \n",
       "0                      1.0            0.0                        0.0   \n",
       "1                      3.0            2.0                        0.0   \n",
       "2                      1.0            1.0                        0.0   \n",
       "3                      1.0            1.0                        0.0   \n",
       "4                      2.0            1.0                        0.0   \n",
       "\n",
       "               behavioral_avoidance  behavioral_face_mask  \\\n",
       "respondent_id                                               \n",
       "0                               0.0                   0.0   \n",
       "1                               1.0                   0.0   \n",
       "2                               1.0                   0.0   \n",
       "3                               1.0                   0.0   \n",
       "4                               1.0                   0.0   \n",
       "\n",
       "               behavioral_wash_hands  behavioral_large_gatherings  \\\n",
       "respondent_id                                                       \n",
       "0                                0.0                          0.0   \n",
       "1                                1.0                          0.0   \n",
       "2                                0.0                          0.0   \n",
       "3                                1.0                          1.0   \n",
       "4                                1.0                          1.0   \n",
       "\n",
       "               behavioral_outside_home  behavioral_touch_face  \\\n",
       "respondent_id                                                   \n",
       "0                                  1.0                    1.0   \n",
       "1                                  1.0                    1.0   \n",
       "2                                  0.0                    0.0   \n",
       "3                                  0.0                    0.0   \n",
       "4                                  0.0                    1.0   \n",
       "\n",
       "               doctor_recc_xyz  ...  rent_or_own   employment_status  \\\n",
       "respondent_id                   ...                                    \n",
       "0                          0.0  ...          Own  Not in Labor Force   \n",
       "1                          0.0  ...         Rent            Employed   \n",
       "2                          NaN  ...          Own            Employed   \n",
       "3                          0.0  ...         Rent  Not in Labor Force   \n",
       "4                          0.0  ...          Own            Employed   \n",
       "\n",
       "               hhs_geo_region                census_msa  household_adults  \\\n",
       "respondent_id                                                               \n",
       "0                    oxchjgsf                   Non-MSA               0.0   \n",
       "1                    bhuqouqj  MSA, Not Principle  City               0.0   \n",
       "2                    qufhixun  MSA, Not Principle  City               2.0   \n",
       "3                    lrircsnp       MSA, Principle City               0.0   \n",
       "4                    qufhixun  MSA, Not Principle  City               1.0   \n",
       "\n",
       "               household_children  employment_industry  employment_occupation  \\\n",
       "respondent_id                                                                   \n",
       "0                             0.0                  NaN                    NaN   \n",
       "1                             0.0             pxcmvdjn               xgwztkwe   \n",
       "2                             0.0             rucpziij               xtkaffoo   \n",
       "3                             0.0                  NaN                    NaN   \n",
       "4                             0.0             wxleyezf               emcorrxb   \n",
       "\n",
       "               xyz_vaccine  seasonal_vaccine  \n",
       "respondent_id                                 \n",
       "0                        0                 0  \n",
       "1                        0                 1  \n",
       "2                        0                 0  \n",
       "3                        0                 1  \n",
       "4                        0                 0  \n",
       "\n",
       "[5 rows x 37 columns]"
      ]
     },
     "execution_count": 5,
     "metadata": {},
     "output_type": "execute_result"
    }
   ],
   "source": [
    "joined_df = train_df.join(train_labels_df)\n",
    "print(joined_df.shape)\n",
    "joined_df.head()"
   ]
  },
  {
   "cell_type": "code",
   "execution_count": 6,
   "id": "8e04d2ba",
   "metadata": {},
   "outputs": [],
   "source": [
    "numeric_cols = train_df.select_dtypes('number').columns"
   ]
  },
  {
   "cell_type": "code",
   "execution_count": 7,
   "id": "06fc4775",
   "metadata": {},
   "outputs": [],
   "source": [
    "categorical_cols = ['race', 'sex', 'marital_status', 'rent_or_own', 'hhs_geo_region','census_msa', 'employment_industry', 'employment_occupation']"
   ]
  },
  {
   "cell_type": "code",
   "execution_count": 8,
   "id": "6910028c",
   "metadata": {},
   "outputs": [],
   "source": [
    "ordered_cols = ['age_group', 'education', 'income_poverty', 'employment_status']"
   ]
  },
  {
   "cell_type": "code",
   "execution_count": 13,
   "id": "c69d9854",
   "metadata": {},
   "outputs": [],
   "source": [
    "from sklearn.pipeline import Pipeline\n",
    "from sklearn.preprocessing import MinMaxScaler, StandardScaler, OneHotEncoder\n",
    "from sklearn.impute import SimpleImputer\n",
    "from sklearn.compose import ColumnTransformer\n",
    "from category_encoders import OrdinalEncoder as oe\n",
    "from catboost import CatBoostClassifier\n",
    "from catboost import Pool, cv\n",
    "from sklearn.metrics import roc_curve, roc_auc_score\n",
    "import optuna"
   ]
  },
  {
   "cell_type": "code",
   "execution_count": 14,
   "id": "350766cc",
   "metadata": {},
   "outputs": [
    {
     "data": {
      "text/plain": [
       "xyz_concern                       92\n",
       "xyz_knowledge                    116\n",
       "behavioral_antiviral_meds         71\n",
       "behavioral_avoidance             208\n",
       "behavioral_face_mask              19\n",
       "behavioral_wash_hands             42\n",
       "behavioral_large_gatherings       87\n",
       "behavioral_outside_home           82\n",
       "behavioral_touch_face            128\n",
       "doctor_recc_xyz                 2160\n",
       "doctor_recc_seasonal            2160\n",
       "chronic_med_condition            971\n",
       "child_under_6_months             820\n",
       "health_worker                    804\n",
       "health_insurance               12274\n",
       "opinion_xyz_vacc_effective       391\n",
       "opinion_xyz_risk                 388\n",
       "opinion_xyz_sick_from_vacc       395\n",
       "opinion_seas_vacc_effective      462\n",
       "opinion_seas_risk                514\n",
       "opinion_seas_sick_from_vacc      537\n",
       "age_group                          0\n",
       "education                       1407\n",
       "race                               0\n",
       "sex                                0\n",
       "income_poverty                  4423\n",
       "marital_status                  1408\n",
       "rent_or_own                     2042\n",
       "employment_status               1463\n",
       "hhs_geo_region                     0\n",
       "census_msa                         0\n",
       "household_adults                 249\n",
       "household_children               249\n",
       "employment_industry            13330\n",
       "employment_occupation          13470\n",
       "dtype: int64"
      ]
     },
     "execution_count": 14,
     "metadata": {},
     "output_type": "execute_result"
    }
   ],
   "source": [
    "train_df.isnull().sum()"
   ]
  },
  {
   "cell_type": "code",
   "execution_count": 15,
   "id": "8d67b79f",
   "metadata": {},
   "outputs": [],
   "source": [
    "for i in numeric_cols:\n",
    "    train_df[i] = train_df[i].fillna(value = -1)"
   ]
  },
  {
   "cell_type": "code",
   "execution_count": 16,
   "id": "a58ab8dd",
   "metadata": {},
   "outputs": [],
   "source": [
    "for i in (categorical_cols + ordered_cols):\n",
    "    train_df[i] = train_df[i].fillna(value = 'missing')"
   ]
  },
  {
   "cell_type": "code",
   "execution_count": 17,
   "id": "6ea6437f",
   "metadata": {},
   "outputs": [
    {
     "data": {
      "text/plain": [
       "xyz_concern                    0\n",
       "xyz_knowledge                  0\n",
       "behavioral_antiviral_meds      0\n",
       "behavioral_avoidance           0\n",
       "behavioral_face_mask           0\n",
       "behavioral_wash_hands          0\n",
       "behavioral_large_gatherings    0\n",
       "behavioral_outside_home        0\n",
       "behavioral_touch_face          0\n",
       "doctor_recc_xyz                0\n",
       "doctor_recc_seasonal           0\n",
       "chronic_med_condition          0\n",
       "child_under_6_months           0\n",
       "health_worker                  0\n",
       "health_insurance               0\n",
       "opinion_xyz_vacc_effective     0\n",
       "opinion_xyz_risk               0\n",
       "opinion_xyz_sick_from_vacc     0\n",
       "opinion_seas_vacc_effective    0\n",
       "opinion_seas_risk              0\n",
       "opinion_seas_sick_from_vacc    0\n",
       "age_group                      0\n",
       "education                      0\n",
       "race                           0\n",
       "sex                            0\n",
       "income_poverty                 0\n",
       "marital_status                 0\n",
       "rent_or_own                    0\n",
       "employment_status              0\n",
       "hhs_geo_region                 0\n",
       "census_msa                     0\n",
       "household_adults               0\n",
       "household_children             0\n",
       "employment_industry            0\n",
       "employment_occupation          0\n",
       "dtype: int64"
      ]
     },
     "execution_count": 17,
     "metadata": {},
     "output_type": "execute_result"
    }
   ],
   "source": [
    "train_df.isnull().sum()"
   ]
  },
  {
   "cell_type": "code",
   "execution_count": 18,
   "id": "dd391b29",
   "metadata": {},
   "outputs": [
    {
     "data": {
      "text/plain": [
       "xyz_concern                       85\n",
       "xyz_knowledge                    122\n",
       "behavioral_antiviral_meds         79\n",
       "behavioral_avoidance             213\n",
       "behavioral_face_mask              19\n",
       "behavioral_wash_hands             40\n",
       "behavioral_large_gatherings       72\n",
       "behavioral_outside_home           82\n",
       "behavioral_touch_face            128\n",
       "doctor_recc_xyz                 2160\n",
       "doctor_recc_seasonal            2160\n",
       "chronic_med_condition            932\n",
       "child_under_6_months             813\n",
       "health_worker                    789\n",
       "health_insurance               12228\n",
       "opinion_xyz_vacc_effective       398\n",
       "opinion_xyz_risk                 380\n",
       "opinion_xyz_sick_from_vacc       375\n",
       "opinion_seas_vacc_effective      452\n",
       "opinion_seas_risk                499\n",
       "opinion_seas_sick_from_vacc      521\n",
       "age_group                          0\n",
       "education                       1407\n",
       "race                               0\n",
       "sex                                0\n",
       "income_poverty                  4497\n",
       "marital_status                  1442\n",
       "rent_or_own                     2036\n",
       "employment_status               1471\n",
       "hhs_geo_region                     0\n",
       "census_msa                         0\n",
       "household_adults                 225\n",
       "household_children               225\n",
       "employment_industry            13275\n",
       "employment_occupation          13426\n",
       "dtype: int64"
      ]
     },
     "execution_count": 18,
     "metadata": {},
     "output_type": "execute_result"
    }
   ],
   "source": [
    "test_df.isnull().sum()"
   ]
  },
  {
   "cell_type": "code",
   "execution_count": 19,
   "id": "1d10b0ae",
   "metadata": {},
   "outputs": [],
   "source": [
    "for i in numeric_cols:\n",
    "    test_df[i] = test_df[i].fillna(value = -1)"
   ]
  },
  {
   "cell_type": "code",
   "execution_count": 20,
   "id": "c0f5a7be",
   "metadata": {},
   "outputs": [],
   "source": [
    "for i in (categorical_cols + ordered_cols):\n",
    "    test_df[i] = test_df[i].fillna(value = 'missing')"
   ]
  },
  {
   "cell_type": "code",
   "execution_count": 21,
   "id": "8a386337",
   "metadata": {},
   "outputs": [
    {
     "data": {
      "text/plain": [
       "xyz_concern                    0\n",
       "xyz_knowledge                  0\n",
       "behavioral_antiviral_meds      0\n",
       "behavioral_avoidance           0\n",
       "behavioral_face_mask           0\n",
       "behavioral_wash_hands          0\n",
       "behavioral_large_gatherings    0\n",
       "behavioral_outside_home        0\n",
       "behavioral_touch_face          0\n",
       "doctor_recc_xyz                0\n",
       "doctor_recc_seasonal           0\n",
       "chronic_med_condition          0\n",
       "child_under_6_months           0\n",
       "health_worker                  0\n",
       "health_insurance               0\n",
       "opinion_xyz_vacc_effective     0\n",
       "opinion_xyz_risk               0\n",
       "opinion_xyz_sick_from_vacc     0\n",
       "opinion_seas_vacc_effective    0\n",
       "opinion_seas_risk              0\n",
       "opinion_seas_sick_from_vacc    0\n",
       "age_group                      0\n",
       "education                      0\n",
       "race                           0\n",
       "sex                            0\n",
       "income_poverty                 0\n",
       "marital_status                 0\n",
       "rent_or_own                    0\n",
       "employment_status              0\n",
       "hhs_geo_region                 0\n",
       "census_msa                     0\n",
       "household_adults               0\n",
       "household_children             0\n",
       "employment_industry            0\n",
       "employment_occupation          0\n",
       "dtype: int64"
      ]
     },
     "execution_count": 21,
     "metadata": {},
     "output_type": "execute_result"
    }
   ],
   "source": [
    "test_df.isnull().sum()"
   ]
  },
  {
   "cell_type": "code",
   "execution_count": 22,
   "id": "968f25e7",
   "metadata": {},
   "outputs": [],
   "source": [
    "from sklearn.model_selection import train_test_split"
   ]
  },
  {
   "cell_type": "code",
   "execution_count": 23,
   "id": "e2e7a039",
   "metadata": {},
   "outputs": [],
   "source": [
    "X_train, X_test, y_train, y_test = train_test_split(train_df, train_labels_df, test_size = 0.3, random_state = 68)"
   ]
  },
  {
   "cell_type": "code",
   "execution_count": 24,
   "id": "4b970356",
   "metadata": {},
   "outputs": [
    {
     "data": {
      "text/plain": [
       "array([21, 22, 23, 24, 25, 26, 27, 28, 29, 30, 33, 34], dtype=int64)"
      ]
     },
     "execution_count": 24,
     "metadata": {},
     "output_type": "execute_result"
    }
   ],
   "source": [
    "categorical_features_indices = np.where(X_train.dtypes != float)[0]\n",
    "categorical_features_indices"
   ]
  },
  {
   "cell_type": "code",
   "execution_count": 25,
   "id": "cd4702cb",
   "metadata": {},
   "outputs": [],
   "source": [
    "model_xyz = CatBoostClassifier(verbose = False,\n",
    "                               cat_features = categorical_features_indices,\n",
    "                               iterations = 500, \n",
    "                               learning_rate = 0.05745075659543725, \n",
    "                               random_strength = 4, \n",
    "                               bagging_temperature = 8, \n",
    "                               max_bin = 5, \n",
    "                               grow_policy = 'Lossguide', \n",
    "                               min_data_in_leaf = 7, \n",
    "                               max_depth = 6, \n",
    "                               l2_leaf_reg = 11.323094517862078, \n",
    "                               one_hot_max_size = 10, \n",
    "                               auto_class_weights = 'Balanced')"
   ]
  },
  {
   "cell_type": "code",
   "execution_count": 26,
   "id": "853df498",
   "metadata": {},
   "outputs": [
    {
     "data": {
      "text/plain": [
       "<catboost.core.CatBoostClassifier at 0x1ed59e17210>"
      ]
     },
     "execution_count": 26,
     "metadata": {},
     "output_type": "execute_result"
    }
   ],
   "source": [
    "model_xyz.fit(X_train, y_train.xyz_vaccine)"
   ]
  },
  {
   "cell_type": "code",
   "execution_count": 27,
   "id": "86351cbb",
   "metadata": {},
   "outputs": [
    {
     "name": "stdout",
     "output_type": "stream",
     "text": [
      "(8013, 2)\n"
     ]
    },
    {
     "data": {
      "text/plain": [
       "array([[0.85118976, 0.14881024],\n",
       "       [0.75237268, 0.24762732],\n",
       "       [0.85585417, 0.14414583],\n",
       "       ...,\n",
       "       [0.97772433, 0.02227567],\n",
       "       [0.39955276, 0.60044724],\n",
       "       [0.4965449 , 0.5034551 ]])"
      ]
     },
     "execution_count": 27,
     "metadata": {},
     "output_type": "execute_result"
    }
   ],
   "source": [
    "pred_xyz = model_xyz.predict_proba(X_test)\n",
    "print(pred_xyz.shape)\n",
    "pred_xyz"
   ]
  },
  {
   "cell_type": "code",
   "execution_count": 28,
   "id": "54ae5e98",
   "metadata": {},
   "outputs": [
    {
     "name": "stdout",
     "output_type": "stream",
     "text": [
      "(8013, 1)\n"
     ]
    },
    {
     "data": {
      "text/plain": [
       "array([[0.14881024],\n",
       "       [0.24762732],\n",
       "       [0.14414583],\n",
       "       ...,\n",
       "       [0.02227567],\n",
       "       [0.60044724],\n",
       "       [0.5034551 ]])"
      ]
     },
     "execution_count": 28,
     "metadata": {},
     "output_type": "execute_result"
    }
   ],
   "source": [
    "pred_xyz = pred_xyz[:, 1].reshape(-1, 1)\n",
    "print(pred_xyz.shape)\n",
    "pred_xyz"
   ]
  },
  {
   "cell_type": "code",
   "execution_count": 29,
   "id": "e38d8281",
   "metadata": {},
   "outputs": [],
   "source": [
    "from sklearn.metrics import roc_curve, roc_auc_score"
   ]
  },
  {
   "cell_type": "code",
   "execution_count": 30,
   "id": "141803a2",
   "metadata": {},
   "outputs": [],
   "source": [
    "def plot_roc(y_true, y_score, label_name, ax):\n",
    "    fpr, tpr, thresholds = roc_curve(y_true, y_score)\n",
    "    ax.plot(fpr, tpr)\n",
    "    ax.plot([0, 1], [0, 1], color = 'grey', linestyle = '--')\n",
    "    ax.set_ylabel('TPR')\n",
    "    ax.set_xlabel('FPR')\n",
    "    ax.set_title(f\"{label_name}: AUC = {roc_auc_score(y_true, y_score):.4f}\")"
   ]
  },
  {
   "cell_type": "code",
   "execution_count": 31,
   "id": "b781086d",
   "metadata": {},
   "outputs": [
    {
     "data": {
      "image/png": "[encoded data removed]",
      "text/plain": [
       "<Figure size 1000x800 with 1 Axes>"
      ]
     },
     "metadata": {},
     "output_type": "display_data"
    }
   ],
   "source": [
    "fig, ax = plt.subplots(1, 1, figsize = (10, 8))\n",
    "plot_roc(y_test['xyz_vaccine'],\n",
    "        pred_xyz,\n",
    "        'xyz_vaccine',\n",
    "        ax = ax)"
   ]
  },
  {
   "cell_type": "code",
   "execution_count": 32,
   "id": "b25c1cf6",
   "metadata": {},
   "outputs": [
    {
     "data": {
      "text/plain": [
       "0.8710964730481472"
      ]
     },
     "execution_count": 32,
     "metadata": {},
     "output_type": "execute_result"
    }
   ],
   "source": [
    "roc_auc_score(y_test.xyz_vaccine, pred_xyz)"
   ]
  },
  {
   "cell_type": "code",
   "execution_count": 33,
   "id": "b15e0e7f",
   "metadata": {},
   "outputs": [],
   "source": [
    "model_seasonal = CatBoostClassifier(verbose = False, \n",
    "                                    cat_features = categorical_features_indices,\n",
    "                                    iterations = 1500, \n",
    "                                    learning_rate = 0.015393853845985255, \n",
    "                                    random_strength = 3, \n",
    "                                    bagging_temperature = 7, \n",
    "                                    max_bin = 8, \n",
    "                                    grow_policy = 'Lossguide', \n",
    "                                    min_data_in_leaf = 1, \n",
    "                                    max_depth = 5, \n",
    "                                    l2_leaf_reg = 0.03977425239611938, \n",
    "                                    one_hot_max_size = 500, \n",
    "                                    auto_class_weights = 'Balanced')"
   ]
  },
  {
   "cell_type": "code",
   "execution_count": 34,
   "id": "29c66a21",
   "metadata": {},
   "outputs": [
    {
     "data": {
      "text/plain": [
       "<catboost.core.CatBoostClassifier at 0x1ed59e33950>"
      ]
     },
     "execution_count": 34,
     "metadata": {},
     "output_type": "execute_result"
    }
   ],
   "source": [
    "model_seasonal.fit(X_train, y_train.seasonal_vaccine)"
   ]
  },
  {
   "cell_type": "code",
   "execution_count": 35,
   "id": "b5406daf",
   "metadata": {},
   "outputs": [
    {
     "name": "stdout",
     "output_type": "stream",
     "text": [
      "(8013, 2)\n"
     ]
    },
    {
     "data": {
      "text/plain": [
       "array([[0.04105152, 0.95894848],\n",
       "       [0.55029726, 0.44970274],\n",
       "       [0.53891836, 0.46108164],\n",
       "       ...,\n",
       "       [0.89943472, 0.10056528],\n",
       "       [0.64584377, 0.35415623],\n",
       "       [0.12983773, 0.87016227]])"
      ]
     },
     "execution_count": 35,
     "metadata": {},
     "output_type": "execute_result"
    }
   ],
   "source": [
    "pred_seasonal = model_seasonal.predict_proba(X_test)\n",
    "print(pred_seasonal.shape)\n",
    "pred_seasonal"
   ]
  },
  {
   "cell_type": "code",
   "execution_count": 36,
   "id": "2cb02164",
   "metadata": {},
   "outputs": [
    {
     "name": "stdout",
     "output_type": "stream",
     "text": [
      "(8013, 1)\n"
     ]
    },
    {
     "data": {
      "text/plain": [
       "array([[0.95894848],\n",
       "       [0.44970274],\n",
       "       [0.46108164],\n",
       "       ...,\n",
       "       [0.10056528],\n",
       "       [0.35415623],\n",
       "       [0.87016227]])"
      ]
     },
     "execution_count": 36,
     "metadata": {},
     "output_type": "execute_result"
    }
   ],
   "source": [
    "pred_seasonal = pred_seasonal[:, 1].reshape(-1, 1)\n",
    "print(pred_seasonal.shape)\n",
    "pred_seasonal"
   ]
  },
  {
   "cell_type": "code",
   "execution_count": 37,
   "id": "6b26be89",
   "metadata": {},
   "outputs": [
    {
     "data": {
      "image/png": "[encoded data removed]",
      "text/plain": [
       "<Figure size 1000x800 with 1 Axes>"
      ]
     },
     "metadata": {},
     "output_type": "display_data"
    }
   ],
   "source": [
    "fig, ax = plt.subplots(1, 1, figsize=(10, 8))\n",
    "plot_roc(\n",
    "    y_test['seasonal_vaccine'], \n",
    "    pred_seasonal, \n",
    "    'seasonal_vaccine',\n",
    "    ax = ax\n",
    ")"
   ]
  },
  {
   "cell_type": "code",
   "execution_count": 38,
   "id": "40a6ff87",
   "metadata": {},
   "outputs": [
    {
     "data": {
      "text/plain": [
       "0.8610417811736933"
      ]
     },
     "execution_count": 38,
     "metadata": {},
     "output_type": "execute_result"
    }
   ],
   "source": [
    "roc_auc_score(y_test.seasonal_vaccine, pred_seasonal)"
   ]
  },
  {
   "cell_type": "code",
   "execution_count": 39,
   "id": "2d25d8ea",
   "metadata": {},
   "outputs": [
    {
     "data": {
      "text/plain": [
       "0.8660691271109202"
      ]
     },
     "execution_count": 39,
     "metadata": {},
     "output_type": "execute_result"
    }
   ],
   "source": [
    "roc_auc_score(y_test, np.hstack((pred_xyz, pred_seasonal)))"
   ]
  },
  {
   "cell_type": "code",
   "execution_count": 40,
   "id": "169f9978",
   "metadata": {},
   "outputs": [
    {
     "data": {
      "text/plain": [
       "<catboost.core.CatBoostClassifier at 0x1ed59e17210>"
      ]
     },
     "execution_count": 40,
     "metadata": {},
     "output_type": "execute_result"
    }
   ],
   "source": [
    "model_xyz.fit(train_df, train_labels_df.xyz_vaccine)"
   ]
  },
  {
   "cell_type": "code",
   "execution_count": 46,
   "id": "f5cc9ad6",
   "metadata": {},
   "outputs": [
    {
     "name": "stdout",
     "output_type": "stream",
     "text": [
      "(26708, 2)\n"
     ]
    },
    {
     "data": {
      "text/plain": [
       "array([[0.62955238, 0.37044762],\n",
       "       [0.92053113, 0.07946887],\n",
       "       [0.49511331, 0.50488669],\n",
       "       ...,\n",
       "       [0.64515566, 0.35484434],\n",
       "       [0.95554827, 0.04445173],\n",
       "       [0.25677621, 0.74322379]])"
      ]
     },
     "execution_count": 46,
     "metadata": {},
     "output_type": "execute_result"
    }
   ],
   "source": [
    "final_xyz = model_xyz.predict_proba(test_df)\n",
    "print(final_xyz.shape)\n",
    "final_xyz"
   ]
  },
  {
   "cell_type": "code",
   "execution_count": 47,
   "id": "2c1d653c",
   "metadata": {},
   "outputs": [
    {
     "name": "stdout",
     "output_type": "stream",
     "text": [
      "(26708, 1)\n"
     ]
    },
    {
     "data": {
      "text/plain": [
       "array([[0.37044762],\n",
       "       [0.07946887],\n",
       "       [0.50488669],\n",
       "       ...,\n",
       "       [0.35484434],\n",
       "       [0.04445173],\n",
       "       [0.74322379]])"
      ]
     },
     "execution_count": 47,
     "metadata": {},
     "output_type": "execute_result"
    }
   ],
   "source": [
    "final_xyz = final_xyz[:, 1].reshape(-1, 1)\n",
    "print(final_xyz.shape)\n",
    "final_xyz"
   ]
  },
  {
   "cell_type": "code",
   "execution_count": 48,
   "id": "944ae09b",
   "metadata": {},
   "outputs": [
    {
     "data": {
      "text/plain": [
       "<catboost.core.CatBoostClassifier at 0x1ed59e33950>"
      ]
     },
     "execution_count": 48,
     "metadata": {},
     "output_type": "execute_result"
    }
   ],
   "source": [
    "model_seasonal.fit(train_df, train_labels_df.seasonal_vaccine)"
   ]
  },
  {
   "cell_type": "code",
   "execution_count": 49,
   "id": "a45dd9f4",
   "metadata": {},
   "outputs": [
    {
     "name": "stdout",
     "output_type": "stream",
     "text": [
      "(26708, 2)\n"
     ]
    },
    {
     "data": {
      "text/plain": [
       "array([[0.72073192, 0.27926808],\n",
       "       [0.95967916, 0.04032084],\n",
       "       [0.23408952, 0.76591048],\n",
       "       ...,\n",
       "       [0.78034187, 0.21965813],\n",
       "       [0.66908713, 0.33091287],\n",
       "       [0.30681591, 0.69318409]])"
      ]
     },
     "execution_count": 49,
     "metadata": {},
     "output_type": "execute_result"
    }
   ],
   "source": [
    "final_seasonal = model_seasonal.predict_proba(test_df)\n",
    "print(final_seasonal.shape)\n",
    "final_seasonal"
   ]
  },
  {
   "cell_type": "code",
   "execution_count": 50,
   "id": "e7597dc0",
   "metadata": {},
   "outputs": [
    {
     "name": "stdout",
     "output_type": "stream",
     "text": [
      "(26708, 1)\n"
     ]
    },
    {
     "data": {
      "text/plain": [
       "array([[0.27926808],\n",
       "       [0.04032084],\n",
       "       [0.76591048],\n",
       "       ...,\n",
       "       [0.21965813],\n",
       "       [0.33091287],\n",
       "       [0.69318409]])"
      ]
     },
     "execution_count": 50,
     "metadata": {},
     "output_type": "execute_result"
    }
   ],
   "source": [
    "final_seasonal = final_seasonal[:, 1].reshape(-1, 1)\n",
    "print(final_seasonal.shape)\n",
    "final_seasonal"
   ]
  },
  {
   "cell_type": "code",
   "execution_count": 51,
   "id": "fff1f1e5",
   "metadata": {},
   "outputs": [
    {
     "data": {
      "text/html": [
       "<div>\n",
       "<style scoped>\n",
       "    .dataframe tbody tr th:only-of-type {\n",
       "        vertical-align: middle;\n",
       "    }\n",
       "\n",
       "    .dataframe tbody tr th {\n",
       "        vertical-align: top;\n",
       "    }\n",
       "\n",
       "    .dataframe thead th {\n",
       "        text-align: right;\n",
       "    }\n",
       "</style>\n",
       "<table border=\"1\" class=\"dataframe\">\n",
       "  <thead>\n",
       "    <tr style=\"text-align: right;\">\n",
       "      <th></th>\n",
       "      <th>seasonal_vaccine</th>\n",
       "    </tr>\n",
       "    <tr>\n",
       "      <th>respondent_id</th>\n",
       "      <th></th>\n",
       "    </tr>\n",
       "  </thead>\n",
       "  <tbody>\n",
       "    <tr>\n",
       "      <th>26707</th>\n",
       "      <td>0.7</td>\n",
       "    </tr>\n",
       "    <tr>\n",
       "      <th>26708</th>\n",
       "      <td>0.7</td>\n",
       "    </tr>\n",
       "    <tr>\n",
       "      <th>26709</th>\n",
       "      <td>0.7</td>\n",
       "    </tr>\n",
       "    <tr>\n",
       "      <th>26710</th>\n",
       "      <td>0.7</td>\n",
       "    </tr>\n",
       "    <tr>\n",
       "      <th>26711</th>\n",
       "      <td>0.7</td>\n",
       "    </tr>\n",
       "    <tr>\n",
       "      <th>...</th>\n",
       "      <td>...</td>\n",
       "    </tr>\n",
       "    <tr>\n",
       "      <th>53410</th>\n",
       "      <td>0.7</td>\n",
       "    </tr>\n",
       "    <tr>\n",
       "      <th>53411</th>\n",
       "      <td>0.7</td>\n",
       "    </tr>\n",
       "    <tr>\n",
       "      <th>53412</th>\n",
       "      <td>0.7</td>\n",
       "    </tr>\n",
       "    <tr>\n",
       "      <th>53413</th>\n",
       "      <td>0.7</td>\n",
       "    </tr>\n",
       "    <tr>\n",
       "      <th>53414</th>\n",
       "      <td>0.7</td>\n",
       "    </tr>\n",
       "  </tbody>\n",
       "</table>\n",
       "<p>26708 rows × 1 columns</p>\n",
       "</div>"
      ],
      "text/plain": [
       "               seasonal_vaccine\n",
       "respondent_id                  \n",
       "26707                       0.7\n",
       "26708                       0.7\n",
       "26709                       0.7\n",
       "26710                       0.7\n",
       "26711                       0.7\n",
       "...                         ...\n",
       "53410                       0.7\n",
       "53411                       0.7\n",
       "53412                       0.7\n",
       "53413                       0.7\n",
       "53414                       0.7\n",
       "\n",
       "[26708 rows x 1 columns]"
      ]
     },
     "execution_count": 51,
     "metadata": {},
     "output_type": "execute_result"
    }
   ],
   "source": [
    "submission_df = pd.read_csv('submission_format.csv', index_col = 'respondent_id', usecols = ['respondent_id', 'seasonal_vaccine'])\n",
    "submission_df"
   ]
  },
  {
   "cell_type": "code",
   "execution_count": 52,
   "id": "0af08883",
   "metadata": {},
   "outputs": [
    {
     "data": {
      "text/html": [
       "<div>\n",
       "<style scoped>\n",
       "    .dataframe tbody tr th:only-of-type {\n",
       "        vertical-align: middle;\n",
       "    }\n",
       "\n",
       "    .dataframe tbody tr th {\n",
       "        vertical-align: top;\n",
       "    }\n",
       "\n",
       "    .dataframe thead th {\n",
       "        text-align: right;\n",
       "    }\n",
       "</style>\n",
       "<table border=\"1\" class=\"dataframe\">\n",
       "  <thead>\n",
       "    <tr style=\"text-align: right;\">\n",
       "      <th></th>\n",
       "      <th>xyz_vaccine</th>\n",
       "      <th>seasonal_vaccine</th>\n",
       "    </tr>\n",
       "    <tr>\n",
       "      <th>respondent_id</th>\n",
       "      <th></th>\n",
       "      <th></th>\n",
       "    </tr>\n",
       "  </thead>\n",
       "  <tbody>\n",
       "    <tr>\n",
       "      <th>26707</th>\n",
       "      <td>0.370448</td>\n",
       "      <td>0.279268</td>\n",
       "    </tr>\n",
       "    <tr>\n",
       "      <th>26708</th>\n",
       "      <td>0.079469</td>\n",
       "      <td>0.040321</td>\n",
       "    </tr>\n",
       "    <tr>\n",
       "      <th>26709</th>\n",
       "      <td>0.504887</td>\n",
       "      <td>0.765910</td>\n",
       "    </tr>\n",
       "    <tr>\n",
       "      <th>26710</th>\n",
       "      <td>0.879725</td>\n",
       "      <td>0.889261</td>\n",
       "    </tr>\n",
       "    <tr>\n",
       "      <th>26711</th>\n",
       "      <td>0.687898</td>\n",
       "      <td>0.510527</td>\n",
       "    </tr>\n",
       "  </tbody>\n",
       "</table>\n",
       "</div>"
      ],
      "text/plain": [
       "               xyz_vaccine  seasonal_vaccine\n",
       "respondent_id                               \n",
       "26707             0.370448          0.279268\n",
       "26708             0.079469          0.040321\n",
       "26709             0.504887          0.765910\n",
       "26710             0.879725          0.889261\n",
       "26711             0.687898          0.510527"
      ]
     },
     "execution_count": 52,
     "metadata": {},
     "output_type": "execute_result"
    }
   ],
   "source": [
    "np.testing.assert_array_equal(test_df.index.values, \n",
    "                              submission_df.index.values)\n",
    "submission_df[\"xyz_vaccine\"] = final_xyz\n",
    "submission_df[\"seasonal_vaccine\"] = final_seasonal\n",
    "submission_df = submission_df[['xyz_vaccine', 'seasonal_vaccine']]\n",
    "submission_df.head()"
   ]
  },
  {
   "cell_type": "code",
   "execution_count": 53,
   "id": "d8dc08bb",
   "metadata": {},
   "outputs": [],
   "source": [
    "submission_df.to_csv('hackathon_submission.csv', index = True)"
   ]
  },
  {
   "cell_type": "code",
   "execution_count": null,
   "id": "cab7b6e9",
   "metadata": {},
   "outputs": [],
   "source": []
  }
 ],
 "metadata": {
  "kernelspec": {
   "display_name": "Python 3 (ipykernel)",
   "language": "python",
   "name": "python3"
  },
  "language_info": {
   "codemirror_mode": {
    "name": "ipython",
    "version": 3
   },
   "file_extension": ".py",
   "mimetype": "text/x-python",
   "name": "python",
   "nbconvert_exporter": "python",
   "pygments_lexer": "ipython3",
   "version": "3.11.5"
  }
 },
 "nbformat": 4,
 "nbformat_minor": 5
}
